{
 "cells": [
  {
   "cell_type": "markdown",
   "metadata": {},
   "source": [
    "# Import keras"
   ]
  },
  {
   "cell_type": "code",
   "execution_count": 1,
   "metadata": {},
   "outputs": [
    {
     "name": "stderr",
     "output_type": "stream",
     "text": [
      "Using TensorFlow backend.\n"
     ]
    }
   ],
   "source": [
    "from keras import layers, models, optimizers, metrics, losses\n",
    "from keras.datasets import mnist"
   ]
  },
  {
   "cell_type": "markdown",
   "metadata": {},
   "source": [
    "# Load MNIST dataset"
   ]
  },
  {
   "cell_type": "code",
   "execution_count": 2,
   "metadata": {},
   "outputs": [],
   "source": [
    "(train_images, train_labels), (test_images, test_labels) = mnist.load_data()"
   ]
  },
  {
   "cell_type": "markdown",
   "metadata": {},
   "source": [
    "## Visualize MNIST data"
   ]
  },
  {
   "cell_type": "code",
   "execution_count": 3,
   "metadata": {},
   "outputs": [
    {
     "name": "stdout",
     "output_type": "stream",
     "text": [
      "train_images.shape (60000, 28, 28)\n",
      "image shape (28, 28)\n",
      "train_labels.shape (60000,)\n",
      "len(train_labels) 60000\n",
      "test_images.shape (10000, 28, 28)\n",
      "image shape (28, 28)\n",
      "test_labels.shape (10000,)\n",
      "len(test_labels) 10000\n"
     ]
    }
   ],
   "source": [
    "print(\"train_images.shape\", train_images.shape)\n",
    "print(\"image shape\", train_images[0].shape)\n",
    "print(\"train_labels.shape\", train_labels.shape)\n",
    "print(\"len(train_labels)\", len(train_labels))\n",
    "\n",
    "print(\"test_images.shape\", test_images.shape)\n",
    "print(\"image shape\", test_images[0].shape)\n",
    "print(\"test_labels.shape\", test_labels.shape)\n",
    "print(\"len(test_labels)\", len(test_labels))"
   ]
  },
  {
   "cell_type": "code",
   "execution_count": 4,
   "metadata": {},
   "outputs": [
    {
     "data": {
      "text/plain": [
       "array([5, 0, 4, 1, 9, 2, 1, 3, 1, 4], dtype=uint8)"
      ]
     },
     "execution_count": 4,
     "metadata": {},
     "output_type": "execute_result"
    }
   ],
   "source": [
    "train_labels[0:10]"
   ]
  },
  {
   "cell_type": "code",
   "execution_count": 6,
   "metadata": {},
   "outputs": [
    {
     "data": {
      "image/png": "[encoded data removed]",
      "text/plain": [
       "<matplotlib.figure.Figure at 0x2a43847f9e8>"
      ]
     },
     "metadata": {},
     "output_type": "display_data"
    }
   ],
   "source": [
    "import matplotlib.pyplot as plt\n",
    "plt.imshow(train_images[0], cmap='gray')\n",
    "plt.show()"
   ]
  },
  {
   "cell_type": "markdown",
   "metadata": {},
   "source": [
    "## Save datasets for further usages"
   ]
  },
  {
   "cell_type": "code",
   "execution_count": 7,
   "metadata": {},
   "outputs": [],
   "source": [
    "ori_train_images = train_images.copy()\n",
    "ori_train_labels = train_labels.copy()\n",
    "\n",
    "ori_test_images = test_images.copy()\n",
    "ori_test_labels = test_labels.copy()"
   ]
  },
  {
   "cell_type": "markdown",
   "metadata": {},
   "source": [
    "# Train a digit recognizer\n",
    "## Approach 01: Use fully connected neural network"
   ]
  },
  {
   "cell_type": "markdown",
   "metadata": {},
   "source": [
    "### Design your fully connected neural network"
   ]
  },
  {
   "cell_type": "code",
   "execution_count": 9,
   "metadata": {},
   "outputs": [],
   "source": [
    "net = models.Sequential()\n",
    "net.add(layers.Dense(512, activation='relu', input_shape=(28 * 28, )))\n",
    "net.add(layers.Dense(10, activation='softmax')) # 10 outputs for [0, 9]\n",
    "\n",
    "net.compile(optimizer=optimizers.RMSprop(), \n",
    "            loss=losses.categorical_crossentropy,\n",
    "            metrics=[metrics.categorical_accuracy])"
   ]
  },
  {
   "cell_type": "markdown",
   "metadata": {},
   "source": [
    "### Format the image data and labels"
   ]
  },
  {
   "cell_type": "code",
   "execution_count": 10,
   "metadata": {},
   "outputs": [],
   "source": [
    "train_images = train_images.reshape((60000, 28 * 28)) # Reshape an image to [1, 28 * 28]\n",
    "train_images = train_images.astype(\"float32\") / 255 # Scale to [0, 1]\n",
    "\n",
    "test_images = test_images.reshape((10000, 28 * 28)) # Reshape an image to [1, 28 * 28]\n",
    "test_images = test_images.astype(\"float32\") / 255 # Scale to [0, 1]\n"
   ]
  },
  {
   "cell_type": "code",
   "execution_count": 11,
   "metadata": {},
   "outputs": [],
   "source": [
    "from keras.utils import to_categorical\n",
    "\n",
    "train_labels = to_categorical(ori_train_labels)\n",
    "test_labels = to_categorical(ori_test_labels)"
   ]
  },
  {
   "cell_type": "code",
   "execution_count": 13,
   "metadata": {},
   "outputs": [
    {
     "name": "stdout",
     "output_type": "stream",
     "text": [
      "train_images.shape (60000, 784)\n",
      "image shape (784,)\n",
      "train_labels.shape (60000, 10)\n",
      "train_labels\n",
      " [[ 0.  0.  0. ...,  0.  0.  0.]\n",
      " [ 1.  0.  0. ...,  0.  0.  0.]\n",
      " [ 0.  0.  0. ...,  0.  0.  0.]\n",
      " ..., \n",
      " [ 0.  0.  0. ...,  0.  0.  0.]\n",
      " [ 0.  0.  0. ...,  0.  0.  0.]\n",
      " [ 0.  0.  0. ...,  0.  1.  0.]]\n",
      "train_labels[0] [ 0.  0.  0.  0.  0.  1.  0.  0.  0.  0.]\n"
     ]
    }
   ],
   "source": [
    "print(\"train_images.shape\", train_images.shape)\n",
    "print(\"image shape\", train_images[0].shape)\n",
    "print(\"train_labels.shape\", train_labels.shape)\n",
    "print(\"train_labels\\n\", train_labels)\n",
    "print(\"train_labels[0]\", train_labels[0])"
   ]
  },
  {
   "cell_type": "code",
   "execution_count": 14,
   "metadata": {},
   "outputs": [
    {
     "name": "stdout",
     "output_type": "stream",
     "text": [
      "Train on 60000 samples, validate on 10000 samples\n",
      "Epoch 1/10\n",
      "60000/60000 [==============================] - 4s 62us/step - loss: 0.2583 - categorical_accuracy: 0.9256 - val_loss: 0.1379 - val_categorical_accuracy: 0.9605\n",
      "Epoch 2/10\n",
      "60000/60000 [==============================] - 2s 39us/step - loss: 0.1056 - categorical_accuracy: 0.9685 - val_loss: 0.0869 - val_categorical_accuracy: 0.9742\n",
      "Epoch 3/10\n",
      "60000/60000 [==============================] - 3s 43us/step - loss: 0.0694 - categorical_accuracy: 0.9795 - val_loss: 0.0868 - val_categorical_accuracy: 0.9727\n",
      "Epoch 4/10\n",
      "60000/60000 [==============================] - 2s 41us/step - loss: 0.0496 - categorical_accuracy: 0.9848 - val_loss: 0.0756 - val_categorical_accuracy: 0.9774\n",
      "Epoch 5/10\n",
      "60000/60000 [==============================] - 3s 42us/step - loss: 0.0376 - categorical_accuracy: 0.9888 - val_loss: 0.0686 - val_categorical_accuracy: 0.9809\n",
      "Epoch 6/10\n",
      "60000/60000 [==============================] - 2s 38us/step - loss: 0.0286 - categorical_accuracy: 0.9913 - val_loss: 0.0607 - val_categorical_accuracy: 0.9833\n",
      "Epoch 7/10\n",
      "60000/60000 [==============================] - 2s 39us/step - loss: 0.0216 - categorical_accuracy: 0.9940 - val_loss: 0.0693 - val_categorical_accuracy: 0.9813\n",
      "Epoch 8/10\n",
      "60000/60000 [==============================] - 2s 40us/step - loss: 0.0164 - categorical_accuracy: 0.9953 - val_loss: 0.0784 - val_categorical_accuracy: 0.9785\n",
      "Epoch 9/10\n",
      "60000/60000 [==============================] - 2s 41us/step - loss: 0.0137 - categorical_accuracy: 0.9959 - val_loss: 0.0710 - val_categorical_accuracy: 0.9802\n",
      "Epoch 10/10\n",
      "60000/60000 [==============================] - 2s 38us/step - loss: 0.0104 - categorical_accuracy: 0.9969 - val_loss: 0.0693 - val_categorical_accuracy: 0.9814\n"
     ]
    }
   ],
   "source": [
    "history = net.fit(train_images, \n",
    "                  train_labels, \n",
    "                  epochs=10,\n",
    "                  batch_size=128,\n",
    "                  validation_data=(test_images, test_labels))"
   ]
  },
  {
   "cell_type": "markdown",
   "metadata": {},
   "source": [
    "### Visualize the accuracy & loss"
   ]
  },
  {
   "cell_type": "code",
   "execution_count": 15,
   "metadata": {},
   "outputs": [
    {
     "data": {
      "image/png": "[encoded data removed]",
      "text/plain": [
       "<matplotlib.figure.Figure at 0x2a43847fd68>"
      ]
     },
     "metadata": {},
     "output_type": "display_data"
    },
    {
     "data": {
      "image/png": "[encoded data removed]",
      "text/plain": [
       "<matplotlib.figure.Figure at 0x2a43857f588>"
      ]
     },
     "metadata": {},
     "output_type": "display_data"
    }
   ],
   "source": [
    "import matplotlib.pyplot as plt\n",
    "\n",
    "history_dict = history.history\n",
    "\n",
    "train_acc = history_dict['categorical_accuracy']\n",
    "train_loss = history_dict['loss']\n",
    "\n",
    "val_acc = history_dict['val_categorical_accuracy']\n",
    "val_loss = history_dict['val_loss']\n",
    "\n",
    "epochs = range(1, len(train_acc) + 1)\n",
    "\n",
    "plt.plot(epochs, train_loss, 'bo', label='Training loss')\n",
    "plt.plot(epochs, val_loss, 'b', label='Validation loss')\n",
    "plt.title('Training and validation losses')\n",
    "plt.xlabel('Epochs')\n",
    "plt.ylabel('Loss')\n",
    "plt.legend()\n",
    "\n",
    "plt.figure()\n",
    "\n",
    "plt.plot(epochs, train_acc, 'bo', label='Training accuracy')\n",
    "plt.plot(epochs, val_acc, 'b', label='Validation accuracy')\n",
    "plt.title('Training and validation accuracy')\n",
    "plt.xlabel('Epochs')\n",
    "plt.ylabel('Accuracy')\n",
    "plt.legend()\n",
    "\n",
    "plt.show()"
   ]
  },
  {
   "cell_type": "markdown",
   "metadata": {},
   "source": [
    "### Use the latest model to evaluate the test data"
   ]
  },
  {
   "cell_type": "code",
   "execution_count": 16,
   "metadata": {},
   "outputs": [
    {
     "name": "stdout",
     "output_type": "stream",
     "text": [
      "10000/10000 [==============================] - 0s 46us/step\n",
      "[0.069326155563952482, 0.98140000000000005]\n"
     ]
    }
   ],
   "source": [
    "results = net.evaluate(test_images, test_labels)\n",
    "print(results)"
   ]
  },
  {
   "cell_type": "markdown",
   "metadata": {},
   "source": [
    "### Use the latest model to predict the data without labels"
   ]
  },
  {
   "cell_type": "code",
   "execution_count": 17,
   "metadata": {},
   "outputs": [
    {
     "name": "stdout",
     "output_type": "stream",
     "text": [
      "1st predict results: \n",
      " [  5.86234056e-12   1.68054200e-14   2.02051442e-08   3.41590135e-06\n",
      "   1.82011219e-19   1.04215359e-10   8.09242749e-20   9.99996543e-01\n",
      "   9.70138622e-11   5.15044931e-08]\n",
      "1st predict label: \n",
      " 7\n"
     ]
    }
   ],
   "source": [
    "import numpy as np\n",
    "results = net.predict(test_images)\n",
    "\n",
    "print(\"1st predict results: \\n\", results[0])\n",
    "print(\"1st predict label: \\n\", np.argmax(results[0]))"
   ]
  },
  {
   "cell_type": "code",
   "execution_count": null,
   "metadata": {},
   "outputs": [],
   "source": []
  }
 ],
 "metadata": {
  "kernelspec": {
   "display_name": "Python 3",
   "language": "python",
   "name": "python3"
  },
  "language_info": {
   "codemirror_mode": {
    "name": "ipython",
    "version": 3
   },
   "file_extension": ".py",
   "mimetype": "text/x-python",
   "name": "python",
   "nbconvert_exporter": "python",
   "pygments_lexer": "ipython3",
   "version": "3.5.4"
  },
  "widgets": {
   "state": {},
   "version": "1.1.2"
  }
 },
 "nbformat": 4,
 "nbformat_minor": 2
}
