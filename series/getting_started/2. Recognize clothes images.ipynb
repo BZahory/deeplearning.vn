{
 "cells": [
  {
   "cell_type": "code",
   "execution_count": 1,
   "metadata": {},
   "outputs": [
    {
     "name": "stderr",
     "output_type": "stream",
     "text": [
      "Using TensorFlow backend.\n"
     ]
    }
   ],
   "source": [
    "from keras import layers, models, optimizers, metrics, losses\n",
    "from keras.datasets import fashion_mnist\n",
    "import matplotlib.pyplot as plt\n"
   ]
  },
  {
   "cell_type": "markdown",
   "metadata": {},
   "source": [
    "# Load Fashion-MNIST dataset"
   ]
  },
  {
   "cell_type": "code",
   "execution_count": 2,
   "metadata": {},
   "outputs": [],
   "source": [
    "(train_images, train_labels), (test_images, test_labels) = fashion_mnist.load_data()"
   ]
  },
  {
   "cell_type": "markdown",
   "metadata": {},
   "source": [
    "# Visualize Fashion-MNIST dataset"
   ]
  },
  {
   "cell_type": "code",
   "execution_count": 3,
   "metadata": {},
   "outputs": [
    {
     "name": "stdout",
     "output_type": "stream",
     "text": [
      "train_images.shape (60000, 28, 28)\n",
      "image shape (28, 28)\n",
      "train_labels.shape (60000,)\n",
      "len(train_labels) 60000\n",
      "test_images.shape (10000, 28, 28)\n",
      "image shape (28, 28)\n",
      "test_labels.shape (10000,)\n",
      "len(test_labels) 10000\n"
     ]
    }
   ],
   "source": [
    "print(\"train_images.shape\", train_images.shape)\n",
    "print(\"image shape\", train_images[0].shape)\n",
    "print(\"train_labels.shape\", train_labels.shape)\n",
    "print(\"len(train_labels)\", len(train_labels))\n",
    "\n",
    "print(\"test_images.shape\", test_images.shape)\n",
    "print(\"image shape\", test_images[0].shape)\n",
    "print(\"test_labels.shape\", test_labels.shape)\n",
    "print(\"len(test_labels)\", len(test_labels))"
   ]
  },
  {
   "cell_type": "code",
   "execution_count": 4,
   "metadata": {},
   "outputs": [
    {
     "data": {
      "text/plain": [
       "array([9, 0, 0, 3, 0, 2, 7, 2, 5, 5], dtype=uint8)"
      ]
     },
     "execution_count": 4,
     "metadata": {},
     "output_type": "execute_result"
    }
   ],
   "source": [
    "train_labels[0:10]"
   ]
  },
  {
   "cell_type": "code",
   "execution_count": 5,
   "metadata": {},
   "outputs": [
    {
     "data": {
      "image/png": "[encoded data removed]",
      "text/plain": [
       "<matplotlib.figure.Figure at 0x205487dc630>"
      ]
     },
     "metadata": {},
     "output_type": "display_data"
    }
   ],
   "source": [
    "n = 3\n",
    "for i in range(0, n * n):\n",
    "    plt.subplot(n, n, 1 + i)\n",
    "    plt.imshow(train_images[i], cmap='gray')\n",
    "plt.show()"
   ]
  },
  {
   "cell_type": "markdown",
   "metadata": {},
   "source": [
    "# Format the dataset"
   ]
  },
  {
   "cell_type": "code",
   "execution_count": 6,
   "metadata": {},
   "outputs": [
    {
     "name": "stdout",
     "output_type": "stream",
     "text": [
      "train_images.shape (60000, 28, 28, 1)\n",
      "image shape (28, 28, 1)\n",
      "train_labels.shape (60000, 10)\n",
      "train_labels\n",
      " [[ 0.  0.  0. ...,  0.  0.  1.]\n",
      " [ 1.  0.  0. ...,  0.  0.  0.]\n",
      " [ 1.  0.  0. ...,  0.  0.  0.]\n",
      " ..., \n",
      " [ 0.  0.  0. ...,  0.  0.  0.]\n",
      " [ 1.  0.  0. ...,  0.  0.  0.]\n",
      " [ 0.  0.  0. ...,  0.  0.  0.]]\n",
      "train_labels[0] [ 0.  0.  0.  0.  0.  0.  0.  0.  0.  1.]\n"
     ]
    }
   ],
   "source": [
    "from keras.utils import to_categorical\n",
    "\n",
    "train_images = train_images.reshape((60000, 28, 28, 1))\n",
    "train_images = train_images.astype('float32') / 255\n",
    "train_labels = to_categorical(train_labels.copy())\n",
    "\n",
    "test_images = test_images.reshape((10000, 28, 28, 1))\n",
    "test_images = test_images.astype('float32') / 255\n",
    "test_labels = to_categorical(test_labels.copy())\n",
    "\n",
    "print(\"train_images.shape\", train_images.shape)\n",
    "print(\"image shape\", train_images[0].shape)\n",
    "print(\"train_labels.shape\", train_labels.shape)\n",
    "print(\"train_labels\\n\", train_labels)\n",
    "print(\"train_labels[0]\", train_labels[0])"
   ]
  },
  {
   "cell_type": "markdown",
   "metadata": {},
   "source": [
    "# Design the network"
   ]
  },
  {
   "cell_type": "code",
   "execution_count": 7,
   "metadata": {},
   "outputs": [
    {
     "name": "stdout",
     "output_type": "stream",
     "text": [
      "_________________________________________________________________\n",
      "Layer (type)                 Output Shape              Param #   \n",
      "=================================================================\n",
      "conv2d_1 (Conv2D)            (None, 26, 26, 32)        320       \n",
      "_________________________________________________________________\n",
      "max_pooling2d_1 (MaxPooling2 (None, 13, 13, 32)        0         \n",
      "_________________________________________________________________\n",
      "conv2d_2 (Conv2D)            (None, 11, 11, 64)        18496     \n",
      "_________________________________________________________________\n",
      "max_pooling2d_2 (MaxPooling2 (None, 5, 5, 64)          0         \n",
      "_________________________________________________________________\n",
      "conv2d_3 (Conv2D)            (None, 3, 3, 64)          36928     \n",
      "_________________________________________________________________\n",
      "flatten_1 (Flatten)          (None, 576)               0         \n",
      "_________________________________________________________________\n",
      "dense_1 (Dense)              (None, 64)                36928     \n",
      "_________________________________________________________________\n",
      "dense_2 (Dense)              (None, 10)                650       \n",
      "=================================================================\n",
      "Total params: 93,322\n",
      "Trainable params: 93,322\n",
      "Non-trainable params: 0\n",
      "_________________________________________________________________\n"
     ]
    }
   ],
   "source": [
    "net = models.Sequential()\n",
    "net.add(layers.Conv2D(32, kernel_size=(3, 3), activation='relu', input_shape=(28, 28, 1))) # need 4D tensor so we need (batch, 28, 28, 1)\n",
    "net.add(layers.MaxPool2D((2, 2)))        \n",
    "net.add(layers.Conv2D(64, kernel_size=(3, 3), activation='relu'))\n",
    "net.add(layers.MaxPooling2D(pool_size=(2, 2)))\n",
    "net.add(layers.Conv2D(64, kernel_size=(3, 3), activation='relu'))\n",
    "net.add(layers.Flatten())\n",
    "net.add(layers.Dense(64, activation='relu'))\n",
    "net.add(layers.Dense(10, activation='softmax'))\n",
    "        \n",
    "net.summary()\n",
    "net.compile(optimizer=optimizers.Adam(), \n",
    "            loss=losses.categorical_crossentropy,\n",
    "            metrics=[metrics.categorical_accuracy])"
   ]
  },
  {
   "cell_type": "code",
   "execution_count": 8,
   "metadata": {},
   "outputs": [
    {
     "name": "stdout",
     "output_type": "stream",
     "text": [
      "Train on 60000 samples, validate on 10000 samples\n",
      "Epoch 1/10\n",
      "60000/60000 [==============================] - 8s 133us/step - loss: 0.5335 - categorical_accuracy: 0.8044 - val_loss: 0.4083 - val_categorical_accuracy: 0.8538\n",
      "Epoch 2/10\n",
      "60000/60000 [==============================] - 6s 101us/step - loss: 0.3357 - categorical_accuracy: 0.8795 - val_loss: 0.3194 - val_categorical_accuracy: 0.8865\n",
      "Epoch 3/10\n",
      "60000/60000 [==============================] - 6s 100us/step - loss: 0.2877 - categorical_accuracy: 0.8945 - val_loss: 0.3031 - val_categorical_accuracy: 0.8904\n",
      "Epoch 4/10\n",
      "60000/60000 [==============================] - 6s 101us/step - loss: 0.2569 - categorical_accuracy: 0.9064 - val_loss: 0.2783 - val_categorical_accuracy: 0.8987\n",
      "Epoch 5/10\n",
      "60000/60000 [==============================] - 6s 102us/step - loss: 0.2345 - categorical_accuracy: 0.9131 - val_loss: 0.2699 - val_categorical_accuracy: 0.9015\n",
      "Epoch 6/10\n",
      "60000/60000 [==============================] - 6s 101us/step - loss: 0.2152 - categorical_accuracy: 0.9211 - val_loss: 0.2657 - val_categorical_accuracy: 0.9055\n",
      "Epoch 7/10\n",
      "60000/60000 [==============================] - 6s 103us/step - loss: 0.1964 - categorical_accuracy: 0.9270 - val_loss: 0.2526 - val_categorical_accuracy: 0.9060\n",
      "Epoch 8/10\n",
      "60000/60000 [==============================] - 6s 106us/step - loss: 0.1810 - categorical_accuracy: 0.9331 - val_loss: 0.2694 - val_categorical_accuracy: 0.9096\n",
      "Epoch 9/10\n",
      "60000/60000 [==============================] - 7s 109us/step - loss: 0.1665 - categorical_accuracy: 0.9380 - val_loss: 0.2639 - val_categorical_accuracy: 0.9091\n",
      "Epoch 10/10\n",
      "60000/60000 [==============================] - 7s 109us/step - loss: 0.1533 - categorical_accuracy: 0.9426 - val_loss: 0.2702 - val_categorical_accuracy: 0.9091\n"
     ]
    }
   ],
   "source": [
    "history = net.fit(train_images, \n",
    "                  train_labels, \n",
    "                  epochs=10,\n",
    "                  batch_size=64,\n",
    "                  validation_data=(test_images, test_labels))"
   ]
  },
  {
   "cell_type": "markdown",
   "metadata": {},
   "source": [
    "`The result is about 94.26% on training set and 90.9% on the test set`"
   ]
  },
  {
   "cell_type": "code",
   "execution_count": 9,
   "metadata": {},
   "outputs": [],
   "source": [
    "from utils import plot_history"
   ]
  },
  {
   "cell_type": "code",
   "execution_count": 10,
   "metadata": {},
   "outputs": [
    {
     "data": {
      "image/png": "[encoded data removed]",
      "text/plain": [
       "<matplotlib.figure.Figure at 0x272bc243630>"
      ]
     },
     "metadata": {},
     "output_type": "display_data"
    },
    {
     "data": {
      "image/png": "[encoded data removed]",
      "text/plain": [
       "<matplotlib.figure.Figure at 0x272bbc55ba8>"
      ]
     },
     "metadata": {},
     "output_type": "display_data"
    }
   ],
   "source": [
    "plot_history(history)"
   ]
  },
  {
   "cell_type": "markdown",
   "metadata": {},
   "source": [
    "# Using data augmentation"
   ]
  },
  {
   "cell_type": "code",
   "execution_count": 11,
   "metadata": {},
   "outputs": [],
   "source": [
    "from keras.preprocessing.image import ImageDataGenerator\n",
    "datagen = ImageDataGenerator(\n",
    "    rotation_range=20, \n",
    "    width_shift_range=0.05, \n",
    "    height_shift_range=0.05, \n",
    "    shear_range=0.15, \n",
    "    #zoom_range=0.15, \n",
    "    horizontal_flip=True, \n",
    "    fill_mode='nearest')"
   ]
  },
  {
   "cell_type": "markdown",
   "metadata": {},
   "source": [
    "## Visualize the data augmentation"
   ]
  },
  {
   "cell_type": "code",
   "execution_count": 12,
   "metadata": {},
   "outputs": [
    {
     "data": {
      "image/png": "[encoded data removed]",
      "text/plain": [
       "<matplotlib.figure.Figure at 0x2054be79978>"
      ]
     },
     "metadata": {},
     "output_type": "display_data"
    }
   ],
   "source": [
    "from keras.preprocessing import image\n",
    "\n",
    "x = train_images[0] # (28, 28, 1)\n",
    "x = x.reshape((1,) + x.shape) # (1, 28, 28, 1)\n",
    "\n",
    "n = 3\n",
    "i = 0 \n",
    "for batch in datagen.flow(x, batch_size=1):\n",
    "    plt.subplot(n, n, 1 + i)\n",
    "    plt.imshow(image.array_to_img(batch[0]), cmap='gray')\n",
    "    i += 1\n",
    "    if i % (n * n) == 0:\n",
    "        break\n",
    "plt.show()"
   ]
  },
  {
   "cell_type": "markdown",
   "metadata": {},
   "source": [
    "# Change the network architecture a bit"
   ]
  },
  {
   "cell_type": "code",
   "execution_count": 19,
   "metadata": {},
   "outputs": [
    {
     "name": "stdout",
     "output_type": "stream",
     "text": [
      "_________________________________________________________________\n",
      "Layer (type)                 Output Shape              Param #   \n",
      "=================================================================\n",
      "input_1 (InputLayer)         (None, 28, 28, 1)         0         \n",
      "_________________________________________________________________\n",
      "batch_normalization_5 (Batch (None, 28, 28, 1)         4         \n",
      "_________________________________________________________________\n",
      "conv2d_4 (Conv2D)            (None, 26, 26, 32)        320       \n",
      "_________________________________________________________________\n",
      "max_pooling2d_3 (MaxPooling2 (None, 13, 13, 32)        0         \n",
      "_________________________________________________________________\n",
      "conv2d_5 (Conv2D)            (None, 11, 11, 64)        18496     \n",
      "_________________________________________________________________\n",
      "max_pooling2d_4 (MaxPooling2 (None, 5, 5, 64)          0         \n",
      "_________________________________________________________________\n",
      "conv2d_6 (Conv2D)            (None, 3, 3, 64)          36928     \n",
      "_________________________________________________________________\n",
      "flatten_2 (Flatten)          (None, 576)               0         \n",
      "_________________________________________________________________\n",
      "dropout_1 (Dropout)          (None, 576)               0         \n",
      "_________________________________________________________________\n",
      "dense_3 (Dense)              (None, 128)               73856     \n",
      "_________________________________________________________________\n",
      "dense_4 (Dense)              (None, 10)                1290      \n",
      "=================================================================\n",
      "Total params: 130,894\n",
      "Trainable params: 130,892\n",
      "Non-trainable params: 2\n",
      "_________________________________________________________________\n"
     ]
    }
   ],
   "source": [
    "net = models.Sequential()\n",
    "net.add(layers.InputLayer(input_shape=(28, 28, 1)))\n",
    "net.add(layers.BatchNormalization())\n",
    "net.add(layers.Conv2D(32, kernel_size=(3, 3), activation='relu'))\n",
    "#net.add(layers.Conv2D(32, kernel_size=(3, 3), activation='relu', input_shape=(28, 28, 1))) # need 4D tensor so we need (batch, 28, 28, 1)\n",
    "net.add(layers.MaxPool2D((2, 2)))   \n",
    "net.add(layers.Conv2D(64, kernel_size=(3, 3), activation='relu'))\n",
    "net.add(layers.MaxPooling2D(pool_size=(2, 2)))\n",
    "net.add(layers.Conv2D(64, kernel_size=(3, 3), activation='relu'))\n",
    "net.add(layers.Flatten())\n",
    "net.add(layers.Dropout(0.5))\n",
    "net.add(layers.Dense(128, activation='relu'))\n",
    "net.add(layers.Dense(10, activation='softmax'))\n",
    "\n",
    "net.summary()\n",
    "net.compile(optimizer=optimizers.Adam(), \n",
    "            loss=losses.categorical_crossentropy,\n",
    "            metrics=[metrics.categorical_accuracy])"
   ]
  },
  {
   "cell_type": "code",
   "execution_count": null,
   "metadata": {},
   "outputs": [
    {
     "name": "stdout",
     "output_type": "stream",
     "text": [
      "Epoch 1/40\n",
      "938/937 [==============================] - 8s 9ms/step - loss: 0.3799 - categorical_accuracy: 0.8636 - val_loss: 0.2439 - val_categorical_accuracy: 0.9093\n",
      "Epoch 2/40\n",
      "938/937 [==============================] - 8s 9ms/step - loss: 0.3274 - categorical_accuracy: 0.8807 - val_loss: 0.2522 - val_categorical_accuracy: 0.9067\n",
      "Epoch 3/40\n",
      "938/937 [==============================] - 8s 9ms/step - loss: 0.3214 - categorical_accuracy: 0.8829 - val_loss: 0.2438 - val_categorical_accuracy: 0.9095\n",
      "Epoch 4/40\n",
      "938/937 [==============================] - 8s 9ms/step - loss: 0.3106 - categorical_accuracy: 0.8860 - val_loss: 0.2429 - val_categorical_accuracy: 0.9111\n",
      "Epoch 5/40\n",
      "938/937 [==============================] - 8s 9ms/step - loss: 0.3042 - categorical_accuracy: 0.8879 - val_loss: 0.2374 - val_categorical_accuracy: 0.9135\n",
      "Epoch 6/40\n",
      "938/937 [==============================] - 8s 9ms/step - loss: 0.3013 - categorical_accuracy: 0.8890 - val_loss: 0.2513 - val_categorical_accuracy: 0.9097\n",
      "Epoch 7/40\n",
      "938/937 [==============================] - 8s 9ms/step - loss: 0.3016 - categorical_accuracy: 0.8886 - val_loss: 0.2451 - val_categorical_accuracy: 0.9111\n",
      "Epoch 8/40\n",
      "938/937 [==============================] - 8s 9ms/step - loss: 0.2957 - categorical_accuracy: 0.8908 - val_loss: 0.2388 - val_categorical_accuracy: 0.9107\n",
      "Epoch 9/40\n",
      "938/937 [==============================] - 8s 9ms/step - loss: 0.2945 - categorical_accuracy: 0.8917 - val_loss: 0.2424 - val_categorical_accuracy: 0.9114\n",
      "Epoch 10/40\n",
      "938/937 [==============================] - 8s 9ms/step - loss: 0.2913 - categorical_accuracy: 0.8927 - val_loss: 0.2413 - val_categorical_accuracy: 0.9119\n",
      "Epoch 11/40\n",
      "938/937 [==============================] - 9s 9ms/step - loss: 0.2872 - categorical_accuracy: 0.8937 - val_loss: 0.2451 - val_categorical_accuracy: 0.9106\n",
      "Epoch 12/40\n",
      "938/937 [==============================] - 9s 10ms/step - loss: 0.2876 - categorical_accuracy: 0.8952 - val_loss: 0.2401 - val_categorical_accuracy: 0.9108\n",
      "Epoch 13/40\n",
      "938/937 [==============================] - 8s 9ms/step - loss: 0.2887 - categorical_accuracy: 0.8939 - val_loss: 0.2493 - val_categorical_accuracy: 0.9088\n",
      "Epoch 14/40\n",
      "938/937 [==============================] - 8s 9ms/step - loss: 0.2854 - categorical_accuracy: 0.8938 - val_loss: 0.2374 - val_categorical_accuracy: 0.9127\n",
      "Epoch 15/40\n",
      "923/937 [============================>.] - ETA: 0s - loss: 0.2860 - categorical_accuracy: 0.8953"
     ]
    }
   ],
   "source": [
    "history = net.fit_generator(datagen.flow(train_images, train_labels, batch_size=64),\n",
    "                    epochs=40,\n",
    "                    steps_per_epoch=len(train_images) / 64,\n",
    "                    validation_data=(test_images, test_labels))"
   ]
  },
  {
   "cell_type": "code",
   "execution_count": 23,
   "metadata": {},
   "outputs": [
    {
     "name": "stdout",
     "output_type": "stream",
     "text": [
      "Train on 60000 samples, validate on 10000 samples\n",
      "Epoch 1/10\n",
      "60000/60000 [==============================] - 7s 114us/step - loss: 0.1331 - categorical_accuracy: 0.9502 - val_loss: 0.2493 - val_categorical_accuracy: 0.9183\n",
      "Epoch 2/10\n",
      "60000/60000 [==============================] - 7s 115us/step - loss: 0.1289 - categorical_accuracy: 0.9517 - val_loss: 0.2448 - val_categorical_accuracy: 0.9196\n",
      "Epoch 3/10\n",
      "60000/60000 [==============================] - 7s 114us/step - loss: 0.1292 - categorical_accuracy: 0.9510 - val_loss: 0.2497 - val_categorical_accuracy: 0.9206\n",
      "Epoch 4/10\n",
      "60000/60000 [==============================] - 7s 115us/step - loss: 0.1268 - categorical_accuracy: 0.9516 - val_loss: 0.2556 - val_categorical_accuracy: 0.9169\n",
      "Epoch 5/10\n",
      "60000/60000 [==============================] - 7s 115us/step - loss: 0.1238 - categorical_accuracy: 0.9527 - val_loss: 0.2406 - val_categorical_accuracy: 0.9211\n",
      "Epoch 6/10\n",
      "60000/60000 [==============================] - 7s 115us/step - loss: 0.1218 - categorical_accuracy: 0.9536 - val_loss: 0.2566 - val_categorical_accuracy: 0.9167\n",
      "Epoch 7/10\n",
      "60000/60000 [==============================] - 7s 114us/step - loss: 0.1206 - categorical_accuracy: 0.9542 - val_loss: 0.2557 - val_categorical_accuracy: 0.9212\n",
      "Epoch 8/10\n",
      "60000/60000 [==============================] - 7s 114us/step - loss: 0.1178 - categorical_accuracy: 0.9552 - val_loss: 0.2510 - val_categorical_accuracy: 0.9218\n",
      "Epoch 9/10\n",
      "60000/60000 [==============================] - 7s 115us/step - loss: 0.1178 - categorical_accuracy: 0.9561 - val_loss: 0.2546 - val_categorical_accuracy: 0.9221\n",
      "Epoch 10/10\n",
      "60000/60000 [==============================] - 7s 114us/step - loss: 0.1187 - categorical_accuracy: 0.9552 - val_loss: 0.2514 - val_categorical_accuracy: 0.9227\n"
     ]
    }
   ],
   "source": [
    "history = net.fit(train_images, \n",
    "                  train_labels, \n",
    "                  epochs=10,\n",
    "                  batch_size=64,\n",
    "                  validation_data=(test_images, test_labels))"
   ]
  },
  {
   "cell_type": "code",
   "execution_count": null,
   "metadata": {},
   "outputs": [],
   "source": []
  }
 ],
 "metadata": {
  "kernelspec": {
   "display_name": "Python 3",
   "language": "python",
   "name": "python3"
  },
  "language_info": {
   "codemirror_mode": {
    "name": "ipython",
    "version": 3
   },
   "file_extension": ".py",
   "mimetype": "text/x-python",
   "name": "python",
   "nbconvert_exporter": "python",
   "pygments_lexer": "ipython3",
   "version": "3.5.4"
  },
  "widgets": {
   "state": {},
   "version": "1.1.2"
  }
 },
 "nbformat": 4,
 "nbformat_minor": 2
}
