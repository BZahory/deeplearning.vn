{
 "cells": [
  {
   "cell_type": "markdown",
   "metadata": {},
   "source": [
    "# Import keras"
   ]
  },
  {
   "cell_type": "code",
   "execution_count": 1,
   "metadata": {},
   "outputs": [
    {
     "name": "stderr",
     "output_type": "stream",
     "text": [
      "Using TensorFlow backend.\n"
     ]
    }
   ],
   "source": [
    "from keras import layers, models, optimizers, metrics, losses\n",
    "from keras.datasets import mnist"
   ]
  },
  {
   "cell_type": "markdown",
   "metadata": {},
   "source": [
    "# Load MNIST dataset"
   ]
  },
  {
   "cell_type": "code",
   "execution_count": 2,
   "metadata": {},
   "outputs": [],
   "source": [
    "(train_images, train_labels), (test_images, test_labels) = mnist.load_data()"
   ]
  },
  {
   "cell_type": "markdown",
   "metadata": {},
   "source": [
    "## Visualize MNIST data"
   ]
  },
  {
   "cell_type": "code",
   "execution_count": 3,
   "metadata": {},
   "outputs": [
    {
     "name": "stdout",
     "output_type": "stream",
     "text": [
      "train_images.shape (60000, 28, 28)\n",
      "image shape (28, 28)\n",
      "train_labels.shape (60000,)\n",
      "len(train_labels) 60000\n",
      "test_images.shape (10000, 28, 28)\n",
      "image shape (28, 28)\n",
      "test_labels.shape (10000,)\n",
      "len(test_labels) 10000\n"
     ]
    }
   ],
   "source": [
    "print(\"train_images.shape\", train_images.shape)\n",
    "print(\"image shape\", train_images[0].shape)\n",
    "print(\"train_labels.shape\", train_labels.shape)\n",
    "print(\"len(train_labels)\", len(train_labels))\n",
    "\n",
    "print(\"test_images.shape\", test_images.shape)\n",
    "print(\"image shape\", test_images[0].shape)\n",
    "print(\"test_labels.shape\", test_labels.shape)\n",
    "print(\"len(test_labels)\", len(test_labels))"
   ]
  },
  {
   "cell_type": "code",
   "execution_count": 4,
   "metadata": {},
   "outputs": [
    {
     "data": {
      "text/plain": [
       "array([5, 0, 4, 1, 9, 2, 1, 3, 1, 4], dtype=uint8)"
      ]
     },
     "execution_count": 4,
     "metadata": {},
     "output_type": "execute_result"
    }
   ],
   "source": [
    "train_labels[0:10]"
   ]
  },
  {
   "cell_type": "code",
   "execution_count": 5,
   "metadata": {},
   "outputs": [
    {
     "data": {
      "text/plain": [
       "<matplotlib.figure.Figure at 0x219cbdcfcf8>"
      ]
     },
     "metadata": {},
     "output_type": "display_data"
    }
   ],
   "source": [
    "import matplotlib.pyplot as plt\n",
    "plt.imshow(train_images[0], cmap='gray')\n",
    "plt.show()"
   ]
  },
  {
   "cell_type": "markdown",
   "metadata": {},
   "source": [
    "## Save datasets for further usages"
   ]
  },
  {
   "cell_type": "code",
   "execution_count": 6,
   "metadata": {},
   "outputs": [],
   "source": [
    "ori_train_images = train_images.copy()\n",
    "ori_train_labels = train_labels.copy()\n",
    "\n",
    "ori_test_images = test_images.copy()\n",
    "ori_test_labels = test_labels.copy()"
   ]
  },
  {
   "cell_type": "markdown",
   "metadata": {},
   "source": [
    "# Train a digit recognizer\n",
    "## Approach 01: Use fully connected neural network"
   ]
  },
  {
   "cell_type": "markdown",
   "metadata": {},
   "source": [
    "### Design your fully connected neural network"
   ]
  },
  {
   "cell_type": "code",
   "execution_count": 7,
   "metadata": {},
   "outputs": [],
   "source": [
    "net = models.Sequential()\n",
    "net.add(layers.Dense(512, activation='relu', input_shape=(28 * 28, )))\n",
    "net.add(layers.Dense(10, activation='softmax')) # 10 outputs for [0, 9]\n",
    "\n",
    "net.compile(optimizer=optimizers.RMSprop(), \n",
    "            loss=losses.categorical_crossentropy,\n",
    "            metrics=[metrics.categorical_accuracy])"
   ]
  },
  {
   "cell_type": "markdown",
   "metadata": {},
   "source": [
    "### Format the image data and labels"
   ]
  },
  {
   "cell_type": "code",
   "execution_count": 8,
   "metadata": {},
   "outputs": [],
   "source": [
    "train_images = train_images.reshape((60000, 28 * 28)) # Reshape an image to [1, 28 * 28]\n",
    "train_images = train_images.astype(\"float32\") / 255 # Scale to [0, 1]\n",
    "\n",
    "test_images = test_images.reshape((10000, 28 * 28)) # Reshape an image to [1, 28 * 28]\n",
    "test_images = test_images.astype(\"float32\") / 255 # Scale to [0, 1]\n"
   ]
  },
  {
   "cell_type": "code",
   "execution_count": 9,
   "metadata": {},
   "outputs": [],
   "source": [
    "from keras.utils import to_categorical\n",
    "\n",
    "train_labels = to_categorical(ori_train_labels)\n",
    "test_labels = to_categorical(ori_test_labels)"
   ]
  },
  {
   "cell_type": "code",
   "execution_count": 10,
   "metadata": {},
   "outputs": [
    {
     "name": "stdout",
     "output_type": "stream",
     "text": [
      "train_images.shape (60000, 784)\n",
      "image shape (784,)\n",
      "train_labels.shape (60000, 10)\n",
      "train_labels\n",
      " [[ 0.  0.  0. ...,  0.  0.  0.]\n",
      " [ 1.  0.  0. ...,  0.  0.  0.]\n",
      " [ 0.  0.  0. ...,  0.  0.  0.]\n",
      " ..., \n",
      " [ 0.  0.  0. ...,  0.  0.  0.]\n",
      " [ 0.  0.  0. ...,  0.  0.  0.]\n",
      " [ 0.  0.  0. ...,  0.  1.  0.]]\n",
      "train_labels[0] [ 0.  0.  0.  0.  0.  1.  0.  0.  0.  0.]\n"
     ]
    }
   ],
   "source": [
    "print(\"train_images.shape\", train_images.shape)\n",
    "print(\"image shape\", train_images[0].shape)\n",
    "print(\"train_labels.shape\", train_labels.shape)\n",
    "print(\"train_labels\\n\", train_labels)\n",
    "print(\"train_labels[0]\", train_labels[0])"
   ]
  },
  {
   "cell_type": "code",
   "execution_count": 11,
   "metadata": {},
   "outputs": [
    {
     "name": "stdout",
     "output_type": "stream",
     "text": [
      "Train on 60000 samples, validate on 10000 samples\n",
      "Epoch 1/10\n",
      "60000/60000 [==============================] - 4s 62us/step - loss: 0.2558 - categorical_accuracy: 0.9255 - val_loss: 0.1421 - val_categorical_accuracy: 0.9569\n",
      "Epoch 2/10\n",
      "60000/60000 [==============================] - 2s 38us/step - loss: 0.1043 - categorical_accuracy: 0.9693 - val_loss: 0.0953 - val_categorical_accuracy: 0.9709\n",
      "Epoch 3/10\n",
      "60000/60000 [==============================] - 2s 39us/step - loss: 0.0682 - categorical_accuracy: 0.9796 - val_loss: 0.0955 - val_categorical_accuracy: 0.9708\n",
      "Epoch 4/10\n",
      "60000/60000 [==============================] - 2s 39us/step - loss: 0.0504 - categorical_accuracy: 0.9852 - val_loss: 0.0745 - val_categorical_accuracy: 0.9772\n",
      "Epoch 5/10\n",
      "60000/60000 [==============================] - 2s 37us/step - loss: 0.0371 - categorical_accuracy: 0.9886 - val_loss: 0.0723 - val_categorical_accuracy: 0.9779\n",
      "Epoch 6/10\n",
      "60000/60000 [==============================] - 2s 36us/step - loss: 0.0285 - categorical_accuracy: 0.9915 - val_loss: 0.0782 - val_categorical_accuracy: 0.9767\n",
      "Epoch 7/10\n",
      "60000/60000 [==============================] - 2s 35us/step - loss: 0.0219 - categorical_accuracy: 0.9933 - val_loss: 0.0678 - val_categorical_accuracy: 0.9801\n",
      "Epoch 8/10\n",
      "60000/60000 [==============================] - 2s 38us/step - loss: 0.0166 - categorical_accuracy: 0.9953 - val_loss: 0.0717 - val_categorical_accuracy: 0.9788\n",
      "Epoch 9/10\n",
      "60000/60000 [==============================] - 2s 36us/step - loss: 0.0136 - categorical_accuracy: 0.9962 - val_loss: 0.0653 - val_categorical_accuracy: 0.9816\n",
      "Epoch 10/10\n",
      "60000/60000 [==============================] - 2s 39us/step - loss: 0.0100 - categorical_accuracy: 0.9974 - val_loss: 0.0746 - val_categorical_accuracy: 0.9806\n"
     ]
    }
   ],
   "source": [
    "history = net.fit(train_images, \n",
    "                  train_labels, \n",
    "                  epochs=10,\n",
    "                  batch_size=128,\n",
    "                  validation_data=(test_images, test_labels))"
   ]
  },
  {
   "cell_type": "markdown",
   "metadata": {},
   "source": [
    "### Visualize the accuracy & loss"
   ]
  },
  {
   "cell_type": "code",
   "execution_count": 12,
   "metadata": {},
   "outputs": [
    {
     "data": {
      "image/png": "[encoded data removed]",
      "text/plain": [
       "<matplotlib.figure.Figure at 0x11d3ba78860>"
      ]
     },
     "metadata": {},
     "output_type": "display_data"
    },
    {
     "data": {
      "image/png": "[encoded data removed]",
      "text/plain": [
       "<matplotlib.figure.Figure at 0x11d3ba6cc18>"
      ]
     },
     "metadata": {},
     "output_type": "display_data"
    }
   ],
   "source": [
    "import matplotlib.pyplot as plt\n",
    "\n",
    "history_dict = history.history\n",
    "\n",
    "train_acc = history_dict['categorical_accuracy']\n",
    "train_loss = history_dict['loss']\n",
    "\n",
    "val_acc = history_dict['val_categorical_accuracy']\n",
    "val_loss = history_dict['val_loss']\n",
    "\n",
    "epochs = range(1, len(train_acc) + 1)\n",
    "\n",
    "plt.plot(epochs, train_loss, 'bo', label='Training loss')\n",
    "plt.plot(epochs, val_loss, 'b', label='Validation loss')\n",
    "plt.title('Training and validation losses')\n",
    "plt.xlabel('Epochs')\n",
    "plt.ylabel('Loss')\n",
    "plt.legend()\n",
    "\n",
    "plt.figure()\n",
    "\n",
    "plt.plot(epochs, train_acc, 'bo', label='Training accuracy')\n",
    "plt.plot(epochs, val_acc, 'b', label='Validation accuracy')\n",
    "plt.title('Training and validation accuracy')\n",
    "plt.xlabel('Epochs')\n",
    "plt.ylabel('Accuracy')\n",
    "plt.legend()\n",
    "\n",
    "plt.show()"
   ]
  },
  {
   "cell_type": "markdown",
   "metadata": {},
   "source": [
    "### Use the latest model to evaluate the test data"
   ]
  },
  {
   "cell_type": "code",
   "execution_count": 13,
   "metadata": {},
   "outputs": [
    {
     "name": "stdout",
     "output_type": "stream",
     "text": [
      "10000/10000 [==============================] - 0s 45us/step\n",
      "[0.07459176515454892, 0.98060000000000003]\n"
     ]
    }
   ],
   "source": [
    "results = net.evaluate(test_images, test_labels)\n",
    "print(results)"
   ]
  },
  {
   "cell_type": "markdown",
   "metadata": {},
   "source": [
    "### Use the latest model to predict the data without labels"
   ]
  },
  {
   "cell_type": "code",
   "execution_count": 14,
   "metadata": {},
   "outputs": [
    {
     "name": "stdout",
     "output_type": "stream",
     "text": [
      "1st predict results: \n",
      " [  2.17556823e-11   4.40925965e-15   9.62024131e-08   5.46123204e-07\n",
      "   1.46268544e-17   1.45914072e-10   7.39304418e-18   9.99999404e-01\n",
      "   2.16408158e-09   1.24641240e-08]\n",
      "1st predict label: \n",
      " 7\n"
     ]
    }
   ],
   "source": [
    "import numpy as np\n",
    "results = net.predict(test_images)\n",
    "\n",
    "print(\"1st predict results: \\n\", results[0])\n",
    "print(\"1st predict label: \\n\", np.argmax(results[0]))"
   ]
  },
  {
   "cell_type": "markdown",
   "metadata": {},
   "source": [
    "## Approach 02: Convolutional neural network"
   ]
  },
  {
   "cell_type": "markdown",
   "metadata": {},
   "source": [
    "### Format the dataset"
   ]
  },
  {
   "cell_type": "code",
   "execution_count": 7,
   "metadata": {},
   "outputs": [
    {
     "name": "stdout",
     "output_type": "stream",
     "text": [
      "train_images.shape (60000, 28, 28, 1)\n",
      "image shape (28, 28, 1)\n",
      "train_labels.shape (60000, 10)\n",
      "train_labels\n",
      " [[ 0.  0.  0. ...,  0.  0.  0.]\n",
      " [ 1.  0.  0. ...,  0.  0.  0.]\n",
      " [ 0.  0.  0. ...,  0.  0.  0.]\n",
      " ..., \n",
      " [ 0.  0.  0. ...,  0.  0.  0.]\n",
      " [ 0.  0.  0. ...,  0.  0.  0.]\n",
      " [ 0.  0.  0. ...,  0.  1.  0.]]\n",
      "train_labels[0] [ 0.  0.  0.  0.  0.  1.  0.  0.  0.  0.]\n"
     ]
    }
   ],
   "source": [
    "from keras.utils import to_categorical\n",
    "train_images = ori_train_images.copy()\n",
    "\n",
    "train_images = train_images.reshape((60000, 28, 28, 1))\n",
    "train_images = train_images.astype('float32') / 255\n",
    "train_labels = to_categorical(ori_train_labels.copy())\n",
    "\n",
    "test_images = ori_test_images.copy()\n",
    "test_images = test_images.reshape((10000, 28, 28, 1))\n",
    "test_images = test_images.astype('float32') / 255\n",
    "test_labels = to_categorical(ori_test_labels.copy())\n",
    "\n",
    "print(\"train_images.shape\", train_images.shape)\n",
    "print(\"image shape\", train_images[0].shape)\n",
    "print(\"train_labels.shape\", train_labels.shape)\n",
    "print(\"train_labels\\n\", train_labels)\n",
    "print(\"train_labels[0]\", train_labels[0])"
   ]
  },
  {
   "cell_type": "markdown",
   "metadata": {},
   "source": [
    "### Design model"
   ]
  },
  {
   "cell_type": "code",
   "execution_count": 8,
   "metadata": {},
   "outputs": [
    {
     "name": "stdout",
     "output_type": "stream",
     "text": [
      "_________________________________________________________________\n",
      "Layer (type)                 Output Shape              Param #   \n",
      "=================================================================\n",
      "conv2d_1 (Conv2D)            (None, 26, 26, 32)        320       \n",
      "_________________________________________________________________\n",
      "max_pooling2d_1 (MaxPooling2 (None, 13, 13, 32)        0         \n",
      "_________________________________________________________________\n",
      "conv2d_2 (Conv2D)            (None, 11, 11, 64)        18496     \n",
      "_________________________________________________________________\n",
      "max_pooling2d_2 (MaxPooling2 (None, 5, 5, 64)          0         \n",
      "_________________________________________________________________\n",
      "conv2d_3 (Conv2D)            (None, 3, 3, 64)          36928     \n",
      "_________________________________________________________________\n",
      "flatten_1 (Flatten)          (None, 576)               0         \n",
      "_________________________________________________________________\n",
      "dense_1 (Dense)              (None, 64)                36928     \n",
      "_________________________________________________________________\n",
      "dense_2 (Dense)              (None, 10)                650       \n",
      "=================================================================\n",
      "Total params: 93,322\n",
      "Trainable params: 93,322\n",
      "Non-trainable params: 0\n",
      "_________________________________________________________________\n"
     ]
    }
   ],
   "source": [
    "net = models.Sequential()\n",
    "net.add(layers.Conv2D(32, kernel_size=(3, 3), activation='relu', input_shape=(28, 28, 1))) # need 4D tensor so we need (batch, 28, 28, 1)\n",
    "net.add(layers.MaxPool2D((2, 2)))        \n",
    "net.add(layers.Conv2D(64, kernel_size=(3, 3), activation='relu'))\n",
    "net.add(layers.MaxPooling2D(pool_size=(2, 2)))\n",
    "net.add(layers.Conv2D(64, kernel_size=(3, 3), activation='relu'))\n",
    "net.add(layers.Flatten())\n",
    "net.add(layers.Dense(64, activation='relu'))\n",
    "net.add(layers.Dense(10, activation='softmax'))\n",
    "        \n",
    "net.summary()"
   ]
  },
  {
   "cell_type": "markdown",
   "metadata": {},
   "source": [
    "### Train"
   ]
  },
  {
   "cell_type": "code",
   "execution_count": 9,
   "metadata": {},
   "outputs": [],
   "source": [
    "net.compile(optimizer=optimizers.Adam(), \n",
    "            loss=losses.categorical_crossentropy,\n",
    "            metrics=[metrics.categorical_accuracy])"
   ]
  },
  {
   "cell_type": "code",
   "execution_count": 10,
   "metadata": {},
   "outputs": [
    {
     "name": "stdout",
     "output_type": "stream",
     "text": [
      "Train on 60000 samples, validate on 10000 samples\n",
      "Epoch 1/10\n",
      "60000/60000 [==============================] - 9s 157us/step - loss: 0.1856 - categorical_accuracy: 0.9442 - val_loss: 0.0556 - val_categorical_accuracy: 0.9819\n",
      "Epoch 2/10\n",
      "60000/60000 [==============================] - 8s 128us/step - loss: 0.0513 - categorical_accuracy: 0.9841 - val_loss: 0.0394 - val_categorical_accuracy: 0.9864\n",
      "Epoch 3/10\n",
      "60000/60000 [==============================] - 7s 124us/step - loss: 0.0357 - categorical_accuracy: 0.9889 - val_loss: 0.0316 - val_categorical_accuracy: 0.9907\n",
      "Epoch 4/10\n",
      "60000/60000 [==============================] - 8s 128us/step - loss: 0.0286 - categorical_accuracy: 0.9911 - val_loss: 0.0307 - val_categorical_accuracy: 0.9900\n",
      "Epoch 5/10\n",
      "60000/60000 [==============================] - 8s 125us/step - loss: 0.0222 - categorical_accuracy: 0.9926 - val_loss: 0.0338 - val_categorical_accuracy: 0.9887\n",
      "Epoch 6/10\n",
      "60000/60000 [==============================] - 8s 125us/step - loss: 0.0185 - categorical_accuracy: 0.9942 - val_loss: 0.0260 - val_categorical_accuracy: 0.9908\n",
      "Epoch 7/10\n",
      "60000/60000 [==============================] - 7s 119us/step - loss: 0.0134 - categorical_accuracy: 0.9956 - val_loss: 0.0337 - val_categorical_accuracy: 0.9904\n",
      "Epoch 8/10\n",
      "60000/60000 [==============================] - 7s 122us/step - loss: 0.0142 - categorical_accuracy: 0.9953 - val_loss: 0.0304 - val_categorical_accuracy: 0.9916\n",
      "Epoch 9/10\n",
      "60000/60000 [==============================] - 7s 121us/step - loss: 0.0096 - categorical_accuracy: 0.9973 - val_loss: 0.0334 - val_categorical_accuracy: 0.9912\n",
      "Epoch 10/10\n",
      "60000/60000 [==============================] - 8s 126us/step - loss: 0.0116 - categorical_accuracy: 0.9962 - val_loss: 0.0337 - val_categorical_accuracy: 0.9915\n"
     ]
    }
   ],
   "source": [
    "history = net.fit(train_images, \n",
    "                  train_labels, \n",
    "                  epochs=10,\n",
    "                  batch_size=64,\n",
    "                  validation_data=(test_images, test_labels))"
   ]
  },
  {
   "cell_type": "code",
   "execution_count": 11,
   "metadata": {},
   "outputs": [
    {
     "data": {
      "image/png": "[encoded data removed]",
      "text/plain": [
       "<matplotlib.figure.Figure at 0x219cf9a9c18>"
      ]
     },
     "metadata": {},
     "output_type": "display_data"
    },
    {
     "data": {
      "image/png": "[encoded data removed]",
      "text/plain": [
       "<matplotlib.figure.Figure at 0x219cf130d30>"
      ]
     },
     "metadata": {},
     "output_type": "display_data"
    }
   ],
   "source": [
    "import matplotlib.pyplot as plt\n",
    "\n",
    "history_dict = history.history\n",
    "\n",
    "train_acc = history_dict['categorical_accuracy']\n",
    "train_loss = history_dict['loss']\n",
    "\n",
    "val_acc = history_dict['val_categorical_accuracy']\n",
    "val_loss = history_dict['val_loss']\n",
    "\n",
    "epochs = range(1, len(train_acc) + 1)\n",
    "\n",
    "plt.plot(epochs, train_loss, 'bo', label='Training loss')\n",
    "plt.plot(epochs, val_loss, 'b', label='Validation loss')\n",
    "plt.title('Training and validation losses')\n",
    "plt.xlabel('Epochs')\n",
    "plt.ylabel('Loss')\n",
    "plt.legend()\n",
    "\n",
    "plt.figure()\n",
    "\n",
    "plt.plot(epochs, train_acc, 'bo', label='Training accuracy')\n",
    "plt.plot(epochs, val_acc, 'b', label='Validation accuracy')\n",
    "plt.title('Training and validation accuracy')\n",
    "plt.xlabel('Epochs')\n",
    "plt.ylabel('Accuracy')\n",
    "plt.legend()\n",
    "\n",
    "plt.show()"
   ]
  },
  {
   "cell_type": "markdown",
   "metadata": {},
   "source": [
    "### Evaluate test set with the latest model"
   ]
  },
  {
   "cell_type": "code",
   "execution_count": 12,
   "metadata": {},
   "outputs": [
    {
     "name": "stdout",
     "output_type": "stream",
     "text": [
      "10000/10000 [==============================] - 1s 71us/step\n",
      "[0.033730055816793898, 0.99150000000000005]\n"
     ]
    }
   ],
   "source": [
    "results = net.evaluate(test_images, test_labels)\n",
    "print(results)"
   ]
  },
  {
   "cell_type": "code",
   "execution_count": null,
   "metadata": {},
   "outputs": [],
   "source": []
  }
 ],
 "metadata": {
  "kernelspec": {
   "display_name": "Python 3",
   "language": "python",
   "name": "python3"
  },
  "language_info": {
   "codemirror_mode": {
    "name": "ipython",
    "version": 3
   },
   "file_extension": ".py",
   "mimetype": "text/x-python",
   "name": "python",
   "nbconvert_exporter": "python",
   "pygments_lexer": "ipython3",
   "version": "3.5.4"
  },
  "widgets": {
   "state": {},
   "version": "1.1.2"
  }
 },
 "nbformat": 4,
 "nbformat_minor": 2
}
